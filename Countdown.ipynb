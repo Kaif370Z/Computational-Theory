{
 "cells": [
  {
   "cell_type": "markdown",
   "metadata": {},
   "source": [
    "# Countdown Game Assignment"
   ]
  },
  {
   "cell_type": "markdown",
   "metadata": {},
   "source": [
    "The premise of this game is that the contestants are given six numbers and are given a final number they need to equal to. They are allowed to only use addition, subtraction, multiplication and division. The contestants are given 30 seconds to try get the final number using their 6 numbers. The first to numbers given to you are between 1-10 and the other four numbers can be 25 50 75 and 100. The contestant does not have to use all six numbers."
   ]
  }
 ],
 "metadata": {
  "language_info": {
   "name": "python"
  }
 },
 "nbformat": 4,
 "nbformat_minor": 2
}
