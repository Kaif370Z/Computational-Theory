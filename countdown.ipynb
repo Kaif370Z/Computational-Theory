{
 "cells": [
  {
   "cell_type": "markdown",
   "metadata": {},
   "source": [
    "# Countdown Game Assignment"
   ]
  },
  {
   "cell_type": "markdown",
   "metadata": {},
   "source": [
    "the premise of this game is that the contestants are given six numbers and are given a final number they need to equal to. They are allowed to only use addition, subtraction, multiplication and division. The contestants are given 30 seconds to try get the final number using their 6 numbers. The first to numbers given to you are between 1-10 and the other four numbers can be 25 50 75 and 100. The contestant does not have to use all six numbers"
   ]
  }
 ],
 "metadata": {
  "kernelspec": {
   "display_name": "base",
   "language": "python",
   "name": "python3"
  },
  "language_info": {
   "codemirror_mode": {
    "name": "ipython",
    "version": 3
   },
   "file_extension": ".py",
   "mimetype": "text/x-python",
   "name": "python",
   "nbconvert_exporter": "python",
   "pygments_lexer": "ipython3",
   "version": "3.9.18"
  }
 },
 "nbformat": 4,
 "nbformat_minor": 2
}
